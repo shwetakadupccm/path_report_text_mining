{
 "cells": [
  {
   "cell_type": "code",
   "execution_count": 89,
   "metadata": {
    "pycharm": {
     "is_executing": true
    }
   },
   "outputs": [],
   "source": [
    "import pandas as pd\n",
    "import numpy as np"
   ]
  },
  {
   "cell_type": "code",
   "execution_count": 90,
   "metadata": {},
   "outputs": [],
   "source": [
    "ffpe_dat = pd.read_excel('D:\\\\Shweta\\\\ffpe_db_column_entries\\\\2021_01_25_PCCM_FFPE_1_672_values.xlsx')\n",
    "defined_voc = pd.read_excel('D:\\\\Shweta\\\\ffpe_db_column_entries\\\\defined_vocab.xlsx')\n",
    "\n",
    "\n",
    "ffpe_dat['all_values'] = ffpe_dat[ffpe_dat.columns[1:]].apply(\n",
    "    lambda x: ','.join(x.dropna().astype(str)), axis = 1)\n",
    "\n",
    "\n",
    "defined_voc['all_vocab'] = defined_voc[defined_voc.columns[1:]].apply(\n",
    "    lambda x: ','.join(x.dropna().astype(str)), axis = 1)\n",
    "\n",
    "\n",
    "ffpe_voc_dat = ffpe_dat[['col names', 'all_values']]\n",
    "defined_voc_dat = defined_voc[['col names', 'all_vocab']]\n",
    "\n",
    "ffpe_voc_dat = ffpe_voc_dat.rename(columns = {'col names' : 'ffpe_col_names',\n",
    "                               'all_values' : 'ffpe_unique_values'})\n",
    "\n",
    "defined_voc_dat = defined_voc_dat.rename(columns = {'col names' : 'vocab_col_names',\n",
    "                                                'all_vocab': 'def_vocab_values'})\n",
    "\n",
    "vocab = pd.concat([ffpe_voc_dat, defined_voc_dat], axis = 1)"
   ]
  },
  {
   "cell_type": "code",
   "execution_count": 91,
   "metadata": {},
   "outputs": [
    {
     "data": {
      "text/html": [
       "<div>\n",
       "<style scoped>\n",
       "    .dataframe tbody tr th:only-of-type {\n",
       "        vertical-align: middle;\n",
       "    }\n",
       "\n",
       "    .dataframe tbody tr th {\n",
       "        vertical-align: top;\n",
       "    }\n",
       "\n",
       "    .dataframe thead th {\n",
       "        text-align: right;\n",
       "    }\n",
       "</style>\n",
       "<table border=\"1\" class=\"dataframe\">\n",
       "  <thead>\n",
       "    <tr style=\"text-align: right;\">\n",
       "      <th></th>\n",
       "      <th>ffpe_col_names</th>\n",
       "      <th>ffpe_unique_values</th>\n",
       "    </tr>\n",
       "  </thead>\n",
       "  <tbody>\n",
       "    <tr>\n",
       "      <th>0</th>\n",
       "      <td>fnac_breast</td>\n",
       "      <td>fnac_breast_no,fnac_breast_yes,requires follow...</td>\n",
       "    </tr>\n",
       "    <tr>\n",
       "      <th>1</th>\n",
       "      <td>fnac_breast</td>\n",
       "      <td>fnac_breast_no,fnac_breast_yes,requires follow...</td>\n",
       "    </tr>\n",
       "    <tr>\n",
       "      <th>2</th>\n",
       "      <td>fnac_diagnosis</td>\n",
       "      <td>negative for malignant cells,fibroadenoma,data...</td>\n",
       "    </tr>\n",
       "    <tr>\n",
       "      <th>3</th>\n",
       "      <td>fnac_diagnosis_comments</td>\n",
       "      <td>paucicellular,data not in report,15-08(slide),...</td>\n",
       "    </tr>\n",
       "    <tr>\n",
       "      <th>4</th>\n",
       "      <td>review_fnac_breast</td>\n",
       "      <td>review_fnac_breast_no,fnac_breast_yes,review_f...</td>\n",
       "    </tr>\n",
       "  </tbody>\n",
       "</table>\n",
       "</div>"
      ],
      "text/plain": [
       "            ffpe_col_names                                 ffpe_unique_values\n",
       "0              fnac_breast  fnac_breast_no,fnac_breast_yes,requires follow...\n",
       "1              fnac_breast  fnac_breast_no,fnac_breast_yes,requires follow...\n",
       "2           fnac_diagnosis  negative for malignant cells,fibroadenoma,data...\n",
       "3  fnac_diagnosis_comments  paucicellular,data not in report,15-08(slide),...\n",
       "4       review_fnac_breast  review_fnac_breast_no,fnac_breast_yes,review_f..."
      ]
     },
     "execution_count": 91,
     "metadata": {},
     "output_type": "execute_result"
    }
   ],
   "source": [
    "ffpe_voc_dat.head()"
   ]
  },
  {
   "cell_type": "code",
   "execution_count": 92,
   "metadata": {},
   "outputs": [
    {
     "data": {
      "text/html": [
       "<div>\n",
       "<style scoped>\n",
       "    .dataframe tbody tr th:only-of-type {\n",
       "        vertical-align: middle;\n",
       "    }\n",
       "\n",
       "    .dataframe tbody tr th {\n",
       "        vertical-align: top;\n",
       "    }\n",
       "\n",
       "    .dataframe thead th {\n",
       "        text-align: right;\n",
       "    }\n",
       "</style>\n",
       "<table border=\"1\" class=\"dataframe\">\n",
       "  <thead>\n",
       "    <tr style=\"text-align: right;\">\n",
       "      <th></th>\n",
       "      <th>vocab_col_names</th>\n",
       "      <th>def_vocab_values</th>\n",
       "    </tr>\n",
       "  </thead>\n",
       "  <tbody>\n",
       "    <tr>\n",
       "      <th>0</th>\n",
       "      <td>fnac_breast</td>\n",
       "      <td>fnac_breast_no,fnac_breast_yes,fnac_breast_req...</td>\n",
       "    </tr>\n",
       "    <tr>\n",
       "      <th>1</th>\n",
       "      <td>review_fnac_breast</td>\n",
       "      <td>review_fnac_breast_no,review_fnac_breast_yes,r...</td>\n",
       "    </tr>\n",
       "    <tr>\n",
       "      <th>2</th>\n",
       "      <td>reason_for_biopsy</td>\n",
       "      <td>diagnostic,recurrence diagnosis,follow up diag...</td>\n",
       "    </tr>\n",
       "    <tr>\n",
       "      <th>3</th>\n",
       "      <td>biopsy_site</td>\n",
       "      <td>right breast,left breast,bilateral,other</td>\n",
       "    </tr>\n",
       "    <tr>\n",
       "      <th>4</th>\n",
       "      <td>biopsy_report in pccm custody</td>\n",
       "      <td>biopsy_report in pccm custody_no,biopsy_report...</td>\n",
       "    </tr>\n",
       "  </tbody>\n",
       "</table>\n",
       "</div>"
      ],
      "text/plain": [
       "                 vocab_col_names  \\\n",
       "0                    fnac_breast   \n",
       "1             review_fnac_breast   \n",
       "2              reason_for_biopsy   \n",
       "3                    biopsy_site   \n",
       "4  biopsy_report in pccm custody   \n",
       "\n",
       "                                    def_vocab_values  \n",
       "0  fnac_breast_no,fnac_breast_yes,fnac_breast_req...  \n",
       "1  review_fnac_breast_no,review_fnac_breast_yes,r...  \n",
       "2  diagnostic,recurrence diagnosis,follow up diag...  \n",
       "3           right breast,left breast,bilateral,other  \n",
       "4  biopsy_report in pccm custody_no,biopsy_report...  "
      ]
     },
     "execution_count": 92,
     "metadata": {},
     "output_type": "execute_result"
    }
   ],
   "source": [
    "defined_voc_dat.head()"
   ]
  },
  {
   "cell_type": "code",
   "execution_count": 93,
   "metadata": {},
   "outputs": [
    {
     "data": {
      "text/html": [
       "<div>\n",
       "<style scoped>\n",
       "    .dataframe tbody tr th:only-of-type {\n",
       "        vertical-align: middle;\n",
       "    }\n",
       "\n",
       "    .dataframe tbody tr th {\n",
       "        vertical-align: top;\n",
       "    }\n",
       "\n",
       "    .dataframe thead th {\n",
       "        text-align: right;\n",
       "    }\n",
       "</style>\n",
       "<table border=\"1\" class=\"dataframe\">\n",
       "  <thead>\n",
       "    <tr style=\"text-align: right;\">\n",
       "      <th></th>\n",
       "      <th>ffpe_col_names</th>\n",
       "      <th>ffpe_unique_values</th>\n",
       "      <th>vocab_col_names</th>\n",
       "      <th>def_vocab_values</th>\n",
       "    </tr>\n",
       "  </thead>\n",
       "  <tbody>\n",
       "    <tr>\n",
       "      <th>0</th>\n",
       "      <td>fnac_breast</td>\n",
       "      <td>fnac_breast_no,fnac_breast_yes,requires follow...</td>\n",
       "      <td>fnac_breast</td>\n",
       "      <td>fnac_breast_no,fnac_breast_yes,fnac_breast_req...</td>\n",
       "    </tr>\n",
       "    <tr>\n",
       "      <th>1</th>\n",
       "      <td>fnac_breast</td>\n",
       "      <td>fnac_breast_no,fnac_breast_yes,requires follow...</td>\n",
       "      <td>review_fnac_breast</td>\n",
       "      <td>review_fnac_breast_no,review_fnac_breast_yes,r...</td>\n",
       "    </tr>\n",
       "    <tr>\n",
       "      <th>2</th>\n",
       "      <td>fnac_diagnosis</td>\n",
       "      <td>negative for malignant cells,fibroadenoma,data...</td>\n",
       "      <td>reason_for_biopsy</td>\n",
       "      <td>diagnostic,recurrence diagnosis,follow up diag...</td>\n",
       "    </tr>\n",
       "    <tr>\n",
       "      <th>3</th>\n",
       "      <td>fnac_diagnosis_comments</td>\n",
       "      <td>paucicellular,data not in report,15-08(slide),...</td>\n",
       "      <td>biopsy_site</td>\n",
       "      <td>right breast,left breast,bilateral,other</td>\n",
       "    </tr>\n",
       "    <tr>\n",
       "      <th>4</th>\n",
       "      <td>review_fnac_breast</td>\n",
       "      <td>review_fnac_breast_no,fnac_breast_yes,review_f...</td>\n",
       "      <td>biopsy_report in pccm custody</td>\n",
       "      <td>biopsy_report in pccm custody_no,biopsy_report...</td>\n",
       "    </tr>\n",
       "  </tbody>\n",
       "</table>\n",
       "</div>"
      ],
      "text/plain": [
       "            ffpe_col_names                                 ffpe_unique_values  \\\n",
       "0              fnac_breast  fnac_breast_no,fnac_breast_yes,requires follow...   \n",
       "1              fnac_breast  fnac_breast_no,fnac_breast_yes,requires follow...   \n",
       "2           fnac_diagnosis  negative for malignant cells,fibroadenoma,data...   \n",
       "3  fnac_diagnosis_comments  paucicellular,data not in report,15-08(slide),...   \n",
       "4       review_fnac_breast  review_fnac_breast_no,fnac_breast_yes,review_f...   \n",
       "\n",
       "                 vocab_col_names  \\\n",
       "0                    fnac_breast   \n",
       "1             review_fnac_breast   \n",
       "2              reason_for_biopsy   \n",
       "3                    biopsy_site   \n",
       "4  biopsy_report in pccm custody   \n",
       "\n",
       "                                    def_vocab_values  \n",
       "0  fnac_breast_no,fnac_breast_yes,fnac_breast_req...  \n",
       "1  review_fnac_breast_no,review_fnac_breast_yes,r...  \n",
       "2  diagnostic,recurrence diagnosis,follow up diag...  \n",
       "3           right breast,left breast,bilateral,other  \n",
       "4  biopsy_report in pccm custody_no,biopsy_report...  "
      ]
     },
     "execution_count": 93,
     "metadata": {},
     "output_type": "execute_result"
    }
   ],
   "source": [
    "vocab.head()"
   ]
  },
  {
   "cell_type": "code",
   "execution_count": 94,
   "metadata": {},
   "outputs": [
    {
     "data": {
      "text/plain": [
       "0                                fnac_breast\n",
       "1                         review_fnac_breast\n",
       "2                          reason_for_biopsy\n",
       "3                                biopsy_site\n",
       "4              biopsy_report in pccm custody\n",
       "                       ...                  \n",
       "89    review_surgery_pathological_staging_pt\n",
       "90    review_surgery_pathological_staging_pn\n",
       "91     review_surgery_pathological_staging_m\n",
       "92     review_surgery_clinical_stage_compute\n",
       "93                          act taken yes/no\n",
       "Name: vocab_col_names, Length: 94, dtype: object"
      ]
     },
     "execution_count": 94,
     "metadata": {},
     "output_type": "execute_result"
    }
   ],
   "source": [
    "defined_voc_dat['vocab_col_names'] "
   ]
  },
  {
   "cell_type": "code",
   "execution_count": 95,
   "metadata": {},
   "outputs": [
    {
     "data": {
      "text/plain": [
       "0                                            fnac_breast\n",
       "1                                            fnac_breast\n",
       "2                                         fnac_diagnosis\n",
       "3                                fnac_diagnosis_comments\n",
       "4                                     review_fnac_breast\n",
       "                             ...                        \n",
       "150                review_surgery_clinical_stage_compute\n",
       "151                                     act taken yes/no\n",
       "152                                             act drug\n",
       "153                                   additional comment\n",
       "154    blocks out to patient's/clinical staff/patient...\n",
       "Name: ffpe_col_names, Length: 155, dtype: object"
      ]
     },
     "execution_count": 95,
     "metadata": {},
     "output_type": "execute_result"
    }
   ],
   "source": [
    "ffpe_voc_dat['ffpe_col_names']"
   ]
  },
  {
   "cell_type": "code",
   "execution_count": 96,
   "metadata": {},
   "outputs": [],
   "source": [
    "ffpe_voc_dat = ffpe_voc_dat.rename(columns = {'ffpe_col_names': 'col_name'})\n",
    "defined_voc_dat = defined_voc_dat.rename(columns = {'vocab_col_names': 'col_name'})"
   ]
  },
  {
   "cell_type": "code",
   "execution_count": 97,
   "metadata": {},
   "outputs": [],
   "source": [
    "vocab = ffpe_voc_dat.merge(defined_voc_dat, on='col_name') "
   ]
  },
  {
   "cell_type": "code",
   "execution_count": 98,
   "metadata": {},
   "outputs": [
    {
     "data": {
      "text/html": [
       "<div>\n",
       "<style scoped>\n",
       "    .dataframe tbody tr th:only-of-type {\n",
       "        vertical-align: middle;\n",
       "    }\n",
       "\n",
       "    .dataframe tbody tr th {\n",
       "        vertical-align: top;\n",
       "    }\n",
       "\n",
       "    .dataframe thead th {\n",
       "        text-align: right;\n",
       "    }\n",
       "</style>\n",
       "<table border=\"1\" class=\"dataframe\">\n",
       "  <thead>\n",
       "    <tr style=\"text-align: right;\">\n",
       "      <th></th>\n",
       "      <th>col_name</th>\n",
       "      <th>ffpe_unique_values</th>\n",
       "      <th>def_vocab_values</th>\n",
       "    </tr>\n",
       "  </thead>\n",
       "  <tbody>\n",
       "    <tr>\n",
       "      <th>0</th>\n",
       "      <td>fnac_breast</td>\n",
       "      <td>fnac_breast_no,fnac_breast_yes,requires follow...</td>\n",
       "      <td>fnac_breast_no,fnac_breast_yes,fnac_breast_req...</td>\n",
       "    </tr>\n",
       "    <tr>\n",
       "      <th>1</th>\n",
       "      <td>fnac_breast</td>\n",
       "      <td>fnac_breast_no,fnac_breast_yes,requires follow...</td>\n",
       "      <td>fnac_breast_no,fnac_breast_yes,fnac_breast_req...</td>\n",
       "    </tr>\n",
       "    <tr>\n",
       "      <th>2</th>\n",
       "      <td>review_fnac_breast</td>\n",
       "      <td>review_fnac_breast_no,fnac_breast_yes,review_f...</td>\n",
       "      <td>review_fnac_breast_no,review_fnac_breast_yes,r...</td>\n",
       "    </tr>\n",
       "    <tr>\n",
       "      <th>3</th>\n",
       "      <td>reason_for_biopsy</td>\n",
       "      <td>diagnostic,recurrence diagnosis,follow up beni...</td>\n",
       "      <td>diagnostic,recurrence diagnosis,follow up diag...</td>\n",
       "    </tr>\n",
       "    <tr>\n",
       "      <th>4</th>\n",
       "      <td>biopsy_site</td>\n",
       "      <td>right breast,left breast,bilateral,nodule from...</td>\n",
       "      <td>right breast,left breast,bilateral,other</td>\n",
       "    </tr>\n",
       "  </tbody>\n",
       "</table>\n",
       "</div>"
      ],
      "text/plain": [
       "             col_name                                 ffpe_unique_values  \\\n",
       "0         fnac_breast  fnac_breast_no,fnac_breast_yes,requires follow...   \n",
       "1         fnac_breast  fnac_breast_no,fnac_breast_yes,requires follow...   \n",
       "2  review_fnac_breast  review_fnac_breast_no,fnac_breast_yes,review_f...   \n",
       "3   reason_for_biopsy  diagnostic,recurrence diagnosis,follow up beni...   \n",
       "4         biopsy_site  right breast,left breast,bilateral,nodule from...   \n",
       "\n",
       "                                    def_vocab_values  \n",
       "0  fnac_breast_no,fnac_breast_yes,fnac_breast_req...  \n",
       "1  fnac_breast_no,fnac_breast_yes,fnac_breast_req...  \n",
       "2  review_fnac_breast_no,review_fnac_breast_yes,r...  \n",
       "3  diagnostic,recurrence diagnosis,follow up diag...  \n",
       "4           right breast,left breast,bilateral,other  "
      ]
     },
     "execution_count": 98,
     "metadata": {},
     "output_type": "execute_result"
    }
   ],
   "source": [
    "vocab.head()"
   ]
  },
  {
   "cell_type": "code",
   "execution_count": 99,
   "metadata": {},
   "outputs": [
    {
     "name": "stdout",
     "output_type": "stream",
     "text": [
      "(87, 3) (94, 2) (155, 2)\n"
     ]
    }
   ],
   "source": [
    "print(vocab.shape, defined_voc_dat.shape, ffpe_voc_dat.shape)"
   ]
  },
  {
   "cell_type": "code",
   "execution_count": 100,
   "metadata": {},
   "outputs": [],
   "source": [
    "# def clean_names(df, name_str):\n",
    "#     cleaned_names = []\n",
    "#     for name in df[name_str]:\n",
    "#         clean_name = str(name).lower()\n",
    "#         cleaned_names.append(clean_name)\n",
    "#     return cleaned_names"
   ]
  },
  {
   "cell_type": "code",
   "execution_count": 101,
   "metadata": {},
   "outputs": [],
   "source": [
    "# ffpe_clean_names = clean_names(vocab, 'col_name')\n",
    "# ffpe_clean_names[1:10], len(ffpe_clean_names)"
   ]
  },
  {
   "cell_type": "code",
   "execution_count": 102,
   "metadata": {},
   "outputs": [],
   "source": [
    "# voc_clean_names = clean_names(vocab, 'col_name')\n"
   ]
  },
  {
   "cell_type": "code",
   "execution_count": 103,
   "metadata": {},
   "outputs": [],
   "source": [
    "def split_the_column_entries(df, name_str):\n",
    "    lst = []\n",
    "    for value in df[name_str]:\n",
    "        clean_value = str(value).split(',')\n",
    "        lst.append(clean_value)\n",
    "    return lst"
   ]
  },
  {
   "cell_type": "code",
   "execution_count": 104,
   "metadata": {},
   "outputs": [
    {
     "data": {
      "text/plain": [
       "([['fnac_breast_no',\n",
       "   'fnac_breast_yes',\n",
       "   'requires follow up',\n",
       "   'benign',\n",
       "   'fnac_breast_na',\n",
       "   'duct carcinoma',\n",
       "   'fnac_breast_left',\n",
       "   'negative for atypical or malignant cells'],\n",
       "  ['fnac_breast_no',\n",
       "   'fnac_breast_yes',\n",
       "   'requires follow up',\n",
       "   'benign',\n",
       "   'fnac_breast_na',\n",
       "   'duct carcinoma',\n",
       "   'fnac_breast_left',\n",
       "   'negative for atypical or malignant cells'],\n",
       "  ['review_fnac_breast_no',\n",
       "   'fnac_breast_yes',\n",
       "   'review_fnac_breast_yes',\n",
       "   'nav',\n",
       "   'intraductal papillary tumour']],\n",
       " 87)"
      ]
     },
     "execution_count": 104,
     "metadata": {},
     "output_type": "execute_result"
    }
   ],
   "source": [
    "ffpe_value_split = split_the_column_entries(vocab, 'ffpe_unique_values') \n",
    "ffpe_value_split[0:3] , len(ffpe_value_split)"
   ]
  },
  {
   "cell_type": "code",
   "execution_count": 105,
   "metadata": {},
   "outputs": [
    {
     "data": {
      "text/plain": [
       "([['fnac_breast_no', 'fnac_breast_yes', 'fnac_breast_requires follow up'],\n",
       "  ['fnac_breast_no', 'fnac_breast_yes', 'fnac_breast_requires follow up'],\n",
       "  ['review_fnac_breast_no',\n",
       "   'review_fnac_breast_yes',\n",
       "   'review_fnac_breast_requires follow up']],\n",
       " 87)"
      ]
     },
     "execution_count": 105,
     "metadata": {},
     "output_type": "execute_result"
    }
   ],
   "source": [
    "voc_value_split = split_the_column_entries(vocab, 'def_vocab_values')\n",
    "voc_value_split[0:3] , len(voc_value_split) "
   ]
  },
  {
   "cell_type": "code",
   "execution_count": 106,
   "metadata": {},
   "outputs": [
    {
     "data": {
      "text/plain": [
       "{'benign',\n",
       " 'duct carcinoma',\n",
       " 'fnac_breast_left',\n",
       " 'fnac_breast_na',\n",
       " 'negative for atypical or malignant cells',\n",
       " 'requires follow up'}"
      ]
     },
     "execution_count": 106,
     "metadata": {},
     "output_type": "execute_result"
    }
   ],
   "source": [
    "set(ffpe_value_split[0]) - set(voc_value_split[0]) "
   ]
  },
  {
   "cell_type": "code",
   "execution_count": 107,
   "metadata": {},
   "outputs": [],
   "source": [
    "# for val1 in ffpe_value_split:\n",
    "#     for val2 in voc_value_split:\n",
    "#         lst = list(set(val1) - set(val2))\n",
    "#         print(lst) "
   ]
  },
  {
   "cell_type": "code",
   "execution_count": 108,
   "metadata": {},
   "outputs": [],
   "source": [
    "# lst = []\n",
    "# for i in range(len(ffpe_value_split)):\n",
    "#     lst_var = list(set(ffpe_value_split[i])-set(voc_value_split[i]))\n",
    "#     lst.append(lst_var)\n",
    "# len(lst)"
   ]
  },
  {
   "cell_type": "code",
   "execution_count": 109,
   "metadata": {},
   "outputs": [],
   "source": [
    "# def remove_vocab_from_ffpe_values(df, ffpe_val_str='ffpe_unique_values', voc_val_str='def_vocab_values'):\n",
    "#     ffpe_value_split = split_the_column_entries(df, ffpe_val_str)\n",
    "#     voc_value_split = split_the_column_entries(df, voc_val_str)\n",
    "#     lst = []\n",
    "#     for i in range(len(ffpe_value_split)):\n",
    "#         lst_var = list(set(ffpe_value_split[i])-set(voc_value_split[i]))\n",
    "#         lst.append(lst_var)\n",
    "#     return lst"
   ]
  },
  {
   "cell_type": "code",
   "execution_count": 110,
   "metadata": {},
   "outputs": [],
   "source": [
    "def remove_vocab_from_ffpe_values(df, ffpe_val_str='ffpe_unique_values', voc_val_str='def_vocab_values'):\n",
    "    ffpe_value_split = split_the_column_entries(df, ffpe_val_str)\n",
    "    voc_value_split = split_the_column_entries(df, voc_val_str)\n",
    "    lst = [] \n",
    "    for i in range(len(ffpe_value_split)):\n",
    "        lst_var = set(ffpe_value_split[i])-set(voc_value_split[i])\n",
    "        lst.append([vocab.iloc[i,0]] +  list(lst_var))\n",
    "        lst_to_df = pd.DataFrame(lst)\n",
    "    return lst_to_df"
   ]
  },
  {
   "cell_type": "code",
   "execution_count": 111,
   "metadata": {},
   "outputs": [],
   "source": [
    "# def remove_vocab_from_ffpe_values(df, ffpe_val_str='ffpe_unique_values', voc_val_str='def_vocab_values'):\n",
    "#     ffpe_value_split = split_the_column_entries(df, ffpe_val_str)\n",
    "#     voc_value_split = split_the_column_entries(df, voc_val_str)\n",
    "#     removed_voc_lst = []  \n",
    "#     for val1 in ffpe_value_split:\n",
    "#         for val2 in voc_value_split:\n",
    "#             lst = list(set(val1) - set(val2))\n",
    "#             removed_voc_lst.append(lst)\n",
    "#     return removed_voc_lst"
   ]
  },
  {
   "cell_type": "code",
   "execution_count": 112,
   "metadata": {},
   "outputs": [
    {
     "data": {
      "text/plain": [
       "pandas.core.frame.DataFrame"
      ]
     },
     "execution_count": 112,
     "metadata": {},
     "output_type": "execute_result"
    }
   ],
   "source": [
    "lst_d = remove_vocab_from_ffpe_values(vocab, ffpe_val_str='ffpe_unique_values', voc_val_str='def_vocab_values')\n",
    "\n",
    "type(lst_d)"
   ]
  },
  {
   "cell_type": "code",
   "execution_count": 113,
   "metadata": {},
   "outputs": [
    {
     "data": {
      "text/plain": [
       "(87, 54)"
      ]
     },
     "execution_count": 113,
     "metadata": {},
     "output_type": "execute_result"
    }
   ],
   "source": [
    "lst_d.shape"
   ]
  },
  {
   "cell_type": "code",
   "execution_count": 114,
   "metadata": {},
   "outputs": [
    {
     "data": {
      "text/html": [
       "<div>\n",
       "<style scoped>\n",
       "    .dataframe tbody tr th:only-of-type {\n",
       "        vertical-align: middle;\n",
       "    }\n",
       "\n",
       "    .dataframe tbody tr th {\n",
       "        vertical-align: top;\n",
       "    }\n",
       "\n",
       "    .dataframe thead th {\n",
       "        text-align: right;\n",
       "    }\n",
       "</style>\n",
       "<table border=\"1\" class=\"dataframe\">\n",
       "  <thead>\n",
       "    <tr style=\"text-align: right;\">\n",
       "      <th></th>\n",
       "      <th>0</th>\n",
       "      <th>1</th>\n",
       "      <th>2</th>\n",
       "      <th>3</th>\n",
       "      <th>4</th>\n",
       "      <th>5</th>\n",
       "      <th>6</th>\n",
       "      <th>7</th>\n",
       "      <th>8</th>\n",
       "      <th>9</th>\n",
       "      <th>...</th>\n",
       "      <th>44</th>\n",
       "      <th>45</th>\n",
       "      <th>46</th>\n",
       "      <th>47</th>\n",
       "      <th>48</th>\n",
       "      <th>49</th>\n",
       "      <th>50</th>\n",
       "      <th>51</th>\n",
       "      <th>52</th>\n",
       "      <th>53</th>\n",
       "    </tr>\n",
       "  </thead>\n",
       "  <tbody>\n",
       "    <tr>\n",
       "      <th>0</th>\n",
       "      <td>fnac_breast</td>\n",
       "      <td>fnac_breast_na</td>\n",
       "      <td>duct carcinoma</td>\n",
       "      <td>fnac_breast_left</td>\n",
       "      <td>negative for atypical or malignant cells</td>\n",
       "      <td>benign</td>\n",
       "      <td>requires follow up</td>\n",
       "      <td>None</td>\n",
       "      <td>None</td>\n",
       "      <td>None</td>\n",
       "      <td>...</td>\n",
       "      <td>None</td>\n",
       "      <td>None</td>\n",
       "      <td>None</td>\n",
       "      <td>None</td>\n",
       "      <td>None</td>\n",
       "      <td>None</td>\n",
       "      <td>None</td>\n",
       "      <td>None</td>\n",
       "      <td>None</td>\n",
       "      <td>None</td>\n",
       "    </tr>\n",
       "    <tr>\n",
       "      <th>1</th>\n",
       "      <td>fnac_breast</td>\n",
       "      <td>fnac_breast_na</td>\n",
       "      <td>duct carcinoma</td>\n",
       "      <td>fnac_breast_left</td>\n",
       "      <td>negative for atypical or malignant cells</td>\n",
       "      <td>benign</td>\n",
       "      <td>requires follow up</td>\n",
       "      <td>None</td>\n",
       "      <td>None</td>\n",
       "      <td>None</td>\n",
       "      <td>...</td>\n",
       "      <td>None</td>\n",
       "      <td>None</td>\n",
       "      <td>None</td>\n",
       "      <td>None</td>\n",
       "      <td>None</td>\n",
       "      <td>None</td>\n",
       "      <td>None</td>\n",
       "      <td>None</td>\n",
       "      <td>None</td>\n",
       "      <td>None</td>\n",
       "    </tr>\n",
       "    <tr>\n",
       "      <th>2</th>\n",
       "      <td>review_fnac_breast</td>\n",
       "      <td>intraductal papillary tumour</td>\n",
       "      <td>nav</td>\n",
       "      <td>fnac_breast_yes</td>\n",
       "      <td>None</td>\n",
       "      <td>None</td>\n",
       "      <td>None</td>\n",
       "      <td>None</td>\n",
       "      <td>None</td>\n",
       "      <td>None</td>\n",
       "      <td>...</td>\n",
       "      <td>None</td>\n",
       "      <td>None</td>\n",
       "      <td>None</td>\n",
       "      <td>None</td>\n",
       "      <td>None</td>\n",
       "      <td>None</td>\n",
       "      <td>None</td>\n",
       "      <td>None</td>\n",
       "      <td>None</td>\n",
       "      <td>None</td>\n",
       "    </tr>\n",
       "    <tr>\n",
       "      <th>3</th>\n",
       "      <td>reason_for_biopsy</td>\n",
       "      <td>nav</td>\n",
       "      <td>follow up benign diagnostic</td>\n",
       "      <td>secondary metastatic</td>\n",
       "      <td>follow up benign diagnosis</td>\n",
       "      <td>recurrence diagnosis (node bx)</td>\n",
       "      <td>follow up recurrence diagnosis</td>\n",
       "      <td>prophylactic</td>\n",
       "      <td>follow up diagnosis (complaint of swelling on ...</td>\n",
       "      <td>diagnostic (mets at the time of diagnosis: fdg...</td>\n",
       "      <td>...</td>\n",
       "      <td>None</td>\n",
       "      <td>None</td>\n",
       "      <td>None</td>\n",
       "      <td>None</td>\n",
       "      <td>None</td>\n",
       "      <td>None</td>\n",
       "      <td>None</td>\n",
       "      <td>None</td>\n",
       "      <td>None</td>\n",
       "      <td>None</td>\n",
       "    </tr>\n",
       "    <tr>\n",
       "      <th>4</th>\n",
       "      <td>biopsy_site</td>\n",
       "      <td>es-6347</td>\n",
       "      <td>right supra clavicle</td>\n",
       "      <td>right breast; left breast</td>\n",
       "      <td>2070-07</td>\n",
       "      <td>pleural fluid</td>\n",
       "      <td>nav</td>\n",
       "      <td>left thigh</td>\n",
       "      <td>right lobe of liver</td>\n",
       "      <td>scalp lesion</td>\n",
       "      <td>...</td>\n",
       "      <td>None</td>\n",
       "      <td>None</td>\n",
       "      <td>None</td>\n",
       "      <td>None</td>\n",
       "      <td>None</td>\n",
       "      <td>None</td>\n",
       "      <td>None</td>\n",
       "      <td>None</td>\n",
       "      <td>None</td>\n",
       "      <td>None</td>\n",
       "    </tr>\n",
       "  </tbody>\n",
       "</table>\n",
       "<p>5 rows × 54 columns</p>\n",
       "</div>"
      ],
      "text/plain": [
       "                   0                             1   \\\n",
       "0         fnac_breast                fnac_breast_na   \n",
       "1         fnac_breast                fnac_breast_na   \n",
       "2  review_fnac_breast  intraductal papillary tumour   \n",
       "3   reason_for_biopsy                           nav   \n",
       "4         biopsy_site                       es-6347   \n",
       "\n",
       "                            2                          3   \\\n",
       "0               duct carcinoma           fnac_breast_left   \n",
       "1               duct carcinoma           fnac_breast_left   \n",
       "2                          nav            fnac_breast_yes   \n",
       "3  follow up benign diagnostic       secondary metastatic   \n",
       "4         right supra clavicle  right breast; left breast   \n",
       "\n",
       "                                         4                               5   \\\n",
       "0  negative for atypical or malignant cells                          benign   \n",
       "1  negative for atypical or malignant cells                          benign   \n",
       "2                                      None                            None   \n",
       "3                follow up benign diagnosis  recurrence diagnosis (node bx)   \n",
       "4                                   2070-07                   pleural fluid   \n",
       "\n",
       "                               6             7   \\\n",
       "0              requires follow up          None   \n",
       "1              requires follow up          None   \n",
       "2                            None          None   \n",
       "3  follow up recurrence diagnosis  prophylactic   \n",
       "4                             nav    left thigh   \n",
       "\n",
       "                                                  8   \\\n",
       "0                                               None   \n",
       "1                                               None   \n",
       "2                                               None   \n",
       "3  follow up diagnosis (complaint of swelling on ...   \n",
       "4                                right lobe of liver   \n",
       "\n",
       "                                                  9   ...    44    45    46  \\\n",
       "0                                               None  ...  None  None  None   \n",
       "1                                               None  ...  None  None  None   \n",
       "2                                               None  ...  None  None  None   \n",
       "3  diagnostic (mets at the time of diagnosis: fdg...  ...  None  None  None   \n",
       "4                                       scalp lesion  ...  None  None  None   \n",
       "\n",
       "     47    48    49    50    51    52    53  \n",
       "0  None  None  None  None  None  None  None  \n",
       "1  None  None  None  None  None  None  None  \n",
       "2  None  None  None  None  None  None  None  \n",
       "3  None  None  None  None  None  None  None  \n",
       "4  None  None  None  None  None  None  None  \n",
       "\n",
       "[5 rows x 54 columns]"
      ]
     },
     "execution_count": 114,
     "metadata": {},
     "output_type": "execute_result"
    }
   ],
   "source": [
    "# voc_df = pd.DataFrame(vocab['col_name'])\n",
    "# voc_df.head()\n",
    "lst_d.head()\n",
    "\n",
    "# final_df = pd.concat(voc_df, lst_d, ignore_index=True)"
   ]
  },
  {
   "cell_type": "code",
   "execution_count": 115,
   "metadata": {},
   "outputs": [],
   "source": [
    "lst_d.to_excel('D:\\\\Shweta\\\\ffpe_db_column_entries\\\\2021_03_10_removed_vocab_from_ffpe_sk.xlsx', header=False, index=False) "
   ]
  },
  {
   "cell_type": "code",
   "execution_count": null,
   "metadata": {},
   "outputs": [],
   "source": []
  }
 ],
 "metadata": {
  "kernelspec": {
   "display_name": "Python 3",
   "language": "python",
   "name": "python3"
  },
  "language_info": {
   "codemirror_mode": {
    "name": "ipython",
    "version": 3
   },
   "file_extension": ".py",
   "mimetype": "text/x-python",
   "name": "python",
   "nbconvert_exporter": "python",
   "pygments_lexer": "ipython3",
   "version": "3.8.5"
  }
 },
 "nbformat": 4,
 "nbformat_minor": 1
}